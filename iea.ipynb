{
 "cells": [
  {
   "cell_type": "code",
   "execution_count": 1,
   "id": "a88b8739",
   "metadata": {},
   "outputs": [],
   "source": [
    "import pandas as pd\n",
    "import numpy as np\n",
    "import matplotlib.pyplot as plt"
   ]
  },
  {
   "cell_type": "code",
   "execution_count": 2,
   "id": "793db330",
   "metadata": {},
   "outputs": [
    {
     "data": {
      "text/html": [
       "<div>\n",
       "<style scoped>\n",
       "    .dataframe tbody tr th:only-of-type {\n",
       "        vertical-align: middle;\n",
       "    }\n",
       "\n",
       "    .dataframe tbody tr th {\n",
       "        vertical-align: top;\n",
       "    }\n",
       "\n",
       "    .dataframe thead th {\n",
       "        text-align: right;\n",
       "    }\n",
       "</style>\n",
       "<table border=\"1\" class=\"dataframe\">\n",
       "  <thead>\n",
       "    <tr style=\"text-align: right;\">\n",
       "      <th></th>\n",
       "      <th>region</th>\n",
       "      <th>category</th>\n",
       "      <th>parameter</th>\n",
       "      <th>mode</th>\n",
       "      <th>powertrain</th>\n",
       "      <th>year</th>\n",
       "      <th>unit</th>\n",
       "      <th>value</th>\n",
       "    </tr>\n",
       "  </thead>\n",
       "  <tbody>\n",
       "    <tr>\n",
       "      <th>8767</th>\n",
       "      <td>USA</td>\n",
       "      <td>Historical</td>\n",
       "      <td>EV sales share</td>\n",
       "      <td>Cars</td>\n",
       "      <td>EV</td>\n",
       "      <td>2010</td>\n",
       "      <td>percent</td>\n",
       "      <td>0.011</td>\n",
       "    </tr>\n",
       "    <tr>\n",
       "      <th>8780</th>\n",
       "      <td>USA</td>\n",
       "      <td>Historical</td>\n",
       "      <td>EV sales share</td>\n",
       "      <td>Cars</td>\n",
       "      <td>EV</td>\n",
       "      <td>2011</td>\n",
       "      <td>percent</td>\n",
       "      <td>0.170</td>\n",
       "    </tr>\n",
       "    <tr>\n",
       "      <th>8793</th>\n",
       "      <td>USA</td>\n",
       "      <td>Historical</td>\n",
       "      <td>EV sales share</td>\n",
       "      <td>Cars</td>\n",
       "      <td>EV</td>\n",
       "      <td>2012</td>\n",
       "      <td>percent</td>\n",
       "      <td>0.410</td>\n",
       "    </tr>\n",
       "    <tr>\n",
       "      <th>8806</th>\n",
       "      <td>USA</td>\n",
       "      <td>Historical</td>\n",
       "      <td>EV sales share</td>\n",
       "      <td>Cars</td>\n",
       "      <td>EV</td>\n",
       "      <td>2013</td>\n",
       "      <td>percent</td>\n",
       "      <td>0.740</td>\n",
       "    </tr>\n",
       "    <tr>\n",
       "      <th>8819</th>\n",
       "      <td>USA</td>\n",
       "      <td>Historical</td>\n",
       "      <td>EV sales share</td>\n",
       "      <td>Cars</td>\n",
       "      <td>EV</td>\n",
       "      <td>2014</td>\n",
       "      <td>percent</td>\n",
       "      <td>0.890</td>\n",
       "    </tr>\n",
       "  </tbody>\n",
       "</table>\n",
       "</div>"
      ],
      "text/plain": [
       "     region    category       parameter  mode powertrain  year     unit  value\n",
       "8767    USA  Historical  EV sales share  Cars         EV  2010  percent  0.011\n",
       "8780    USA  Historical  EV sales share  Cars         EV  2011  percent  0.170\n",
       "8793    USA  Historical  EV sales share  Cars         EV  2012  percent  0.410\n",
       "8806    USA  Historical  EV sales share  Cars         EV  2013  percent  0.740\n",
       "8819    USA  Historical  EV sales share  Cars         EV  2014  percent  0.890"
      ]
     },
     "execution_count": 2,
     "metadata": {},
     "output_type": "execute_result"
    }
   ],
   "source": [
    "iea_global = pd.read_csv(\"IEA GEVO 2023 data.csv\")\n",
    "\n",
    "pcts = iea_global[(iea_global['region'] == \"USA\")\n",
    "                  & (iea_global['parameter'].str.contains(\"sales share\"))\n",
    "                  & (iea_global['mode'] == \"Cars\")]\n",
    "pcts.head()"
   ]
  },
  {
   "cell_type": "code",
   "execution_count": 3,
   "id": "f973cf27",
   "metadata": {},
   "outputs": [
    {
     "data": {
      "image/png": "[encoded data removed]",
      "text/plain": [
       "<Figure size 432x288 with 1 Axes>"
      ]
     },
     "metadata": {
      "needs_background": "light"
     },
     "output_type": "display_data"
    }
   ],
   "source": [
    "hist = pcts[pcts['category'] == 'Historical']\n",
    "hist = hist.set_index('year')\n",
    "\n",
    "proj = pcts[(pcts['category'] == 'Projection-APS')]\n",
    "proj = proj.set_index('year')\n",
    "\n",
    "plt.plot(hist['value'])\n",
    "plt.plot(proj['value'], linestyle='--', marker='o', label=\"APS & STEPS projection\")\n",
    "\n",
    "plt.xlabel(\"year\")\n",
    "plt.ylabel(\"sales share (percent)\")\n",
    "plt.title(\"Projected EV share of new cars\")\n",
    "\n",
    "plt.legend()\n",
    "plt.show()"
   ]
  },
  {
   "cell_type": "code",
   "execution_count": 5,
   "id": "04309259",
   "metadata": {},
   "outputs": [
    {
     "data": {
      "text/plain": [
       "array([2010, 2011, 2012, 2013, 2014, 2015, 2016, 2017, 2018, 2019, 2020,\n",
       "       2021, 2022, 2023, 2024, 2025, 2026, 2027, 2028, 2029, 2030])"
      ]
     },
     "execution_count": 5,
     "metadata": {},
     "output_type": "execute_result"
    }
   ],
   "source": [
    "xx = np.arange(2010, 2031)\n",
    "xx"
   ]
  },
  {
   "cell_type": "code",
   "execution_count": 14,
   "id": "b3998dc9",
   "metadata": {},
   "outputs": [
    {
     "data": {
      "image/png": "[encoded data removed]",
      "text/plain": [
       "<Figure size 432x288 with 1 Axes>"
      ]
     },
     "metadata": {
      "needs_background": "light"
     },
     "output_type": "display_data"
    }
   ],
   "source": [
    "x, y = hist.index, hist['value']\n",
    "plt.scatter(x, y, c='gray')\n",
    "\n",
    "xx = np.arange(2010, 2031)\n",
    "# quadratic\n",
    "model = np.poly1d(np.polyfit(x, y, 2))\n",
    "plt.plot(xx, model(xx), c='green', label=\"quadratic\")\n",
    "\n",
    "# exponential\n",
    "# for start in np.arange(9):\n",
    "#     model = np.poly1d(np.polyfit(x[start:], np.log(y[start:]), 1))\n",
    "#     plt.plot(xx, np.exp(model(xx)), label=f\"exponential ({2010+start})\")\n",
    "\n",
    "model = np.poly1d(np.polyfit(x, np.log(y), 1, w=np.arange(len(x))))\n",
    "plt.plot(xx, np.exp(model(xx)), label=f\"exponential\")\n",
    "\n",
    "plt.legend()\n",
    "plt.title(\"Projected EV sales share of new cars\")\n",
    "plt.xticks(xx[::2])\n",
    "plt.ylabel(\"sales share (%)\")\n",
    "plt.show()"
   ]
  },
  {
   "cell_type": "markdown",
   "id": "3321ab8b",
   "metadata": {},
   "source": [
    "## Sigmoid curve\n",
    "\n",
    "Fits a sigmoid curve according to the equation:\n",
    "\n",
    "$$\\hat y = \\dfrac {M} {1 + e^{-k(x-x_0)}} + b$$\n",
    "\n",
    "This seems like it might be a better model for our problem than quadratic or exponential, for a few reasons.\n",
    "\n",
    "1. The long-term behavior is more realistic, since we can't get higher than 100% of market share - so there is a hard cap (and it'll likely take a long time before we reach *exactly* 100%, unless we have some laws that explicitly require it)\n",
    "1. Growth has been very slow in earlier years but will speed up near the \"middle\" (now or in the next few years) and slow down when we get closer to 100%.\n",
    "\n",
    "Note: this dataset is only the proportions of newly sold **cars** that are electric, but our forecasting question considers all vehicles. so we'll need to adjust it somehow (probably downwards) to account for vans and trucks."
   ]
  },
  {
   "cell_type": "code",
   "execution_count": 5,
   "id": "9960417e",
   "metadata": {},
   "outputs": [
    {
     "name": "stdout",
     "output_type": "stream",
     "text": [
      "(0.4, 2028, 85)\n",
      "0.22875084817111352\n"
     ]
    }
   ],
   "source": [
    "def sigmoid(x, k, x0, M=100, b=0):\n",
    "    return M / (1 + np.exp(-k*(x-x0))) + b\n",
    "\n",
    "def rmse(true, pred):\n",
    "    return np.mean((true - pred) ** 2)\n",
    "\n",
    "# fitting sigmoid curve (naive)\n",
    "best = None\n",
    "best_err = None\n",
    "for x0 in np.arange(2027, 2030):\n",
    "    for k in np.arange(0.3, 0.7, 0.1):\n",
    "        for M in np.arange(80, 100, 1):\n",
    "            pred = sigmoid(x, k, x0, M=M)\n",
    "            err = rmse(y, pred)\n",
    "            if best_err is None or err < best_err:\n",
    "                best = round(k,2), x0, M\n",
    "                best_err = err\n",
    "\n",
    "print(best)\n",
    "print(best_err)"
   ]
  },
  {
   "cell_type": "code",
   "execution_count": 6,
   "id": "cfdaf560",
   "metadata": {},
   "outputs": [
    {
     "data": {
      "image/png": "[encoded data removed]",
      "text/plain": [
       "<Figure size 432x288 with 1 Axes>"
      ]
     },
     "metadata": {
      "needs_background": "light"
     },
     "output_type": "display_data"
    }
   ],
   "source": [
    "x, y = hist.index, hist['value']\n",
    "plt.scatter(x, y, c='gray')\n",
    "\n",
    "# best = (0.3, 2028)\n",
    "\n",
    "xx = np.arange(2010, 2040, 0.1)\n",
    "plt.plot(xx, sigmoid(xx, *best), c='green', label=\"quadratic\")\n",
    "\n",
    "plt.plot(2030, sigmoid(2030, *best), marker='o', c='red')\n",
    "plt.text(2031, sigmoid(2030, *best), s=f\"2030: {round(sigmoid(2030, *best), 2)}%\", c='red')\n",
    "\n",
    "plt.title(\"Forecasted EV share of US new cars\")\n",
    "plt.ylabel(\"sales share (%)\")\n",
    "plt.show()"
   ]
  },
  {
   "cell_type": "code",
   "execution_count": 7,
   "id": "a4296138",
   "metadata": {
    "scrolled": true
   },
   "outputs": [
    {
     "data": {
      "text/html": [
       "<div>\n",
       "<style scoped>\n",
       "    .dataframe tbody tr th:only-of-type {\n",
       "        vertical-align: middle;\n",
       "    }\n",
       "\n",
       "    .dataframe tbody tr th {\n",
       "        vertical-align: top;\n",
       "    }\n",
       "\n",
       "    .dataframe thead th {\n",
       "        text-align: right;\n",
       "    }\n",
       "</style>\n",
       "<table border=\"1\" class=\"dataframe\">\n",
       "  <thead>\n",
       "    <tr style=\"text-align: right;\">\n",
       "      <th></th>\n",
       "      <th>region</th>\n",
       "      <th>category</th>\n",
       "      <th>parameter</th>\n",
       "      <th>mode</th>\n",
       "      <th>powertrain</th>\n",
       "      <th>year</th>\n",
       "      <th>unit</th>\n",
       "      <th>value</th>\n",
       "    </tr>\n",
       "  </thead>\n",
       "  <tbody>\n",
       "    <tr>\n",
       "      <th>8769</th>\n",
       "      <td>USA</td>\n",
       "      <td>Historical</td>\n",
       "      <td>EV sales</td>\n",
       "      <td>Cars</td>\n",
       "      <td>BEV</td>\n",
       "      <td>2010</td>\n",
       "      <td>Vehicles</td>\n",
       "      <td>1200.0</td>\n",
       "    </tr>\n",
       "    <tr>\n",
       "      <th>8778</th>\n",
       "      <td>USA</td>\n",
       "      <td>Historical</td>\n",
       "      <td>EV sales</td>\n",
       "      <td>Cars</td>\n",
       "      <td>BEV</td>\n",
       "      <td>2011</td>\n",
       "      <td>Vehicles</td>\n",
       "      <td>9800.0</td>\n",
       "    </tr>\n",
       "    <tr>\n",
       "      <th>8795</th>\n",
       "      <td>USA</td>\n",
       "      <td>Historical</td>\n",
       "      <td>EV sales</td>\n",
       "      <td>Cars</td>\n",
       "      <td>BEV</td>\n",
       "      <td>2012</td>\n",
       "      <td>Vehicles</td>\n",
       "      <td>15000.0</td>\n",
       "    </tr>\n",
       "    <tr>\n",
       "      <th>8804</th>\n",
       "      <td>USA</td>\n",
       "      <td>Historical</td>\n",
       "      <td>EV sales</td>\n",
       "      <td>Cars</td>\n",
       "      <td>BEV</td>\n",
       "      <td>2013</td>\n",
       "      <td>Vehicles</td>\n",
       "      <td>48000.0</td>\n",
       "    </tr>\n",
       "    <tr>\n",
       "      <th>8821</th>\n",
       "      <td>USA</td>\n",
       "      <td>Historical</td>\n",
       "      <td>EV sales</td>\n",
       "      <td>Cars</td>\n",
       "      <td>BEV</td>\n",
       "      <td>2014</td>\n",
       "      <td>Vehicles</td>\n",
       "      <td>63000.0</td>\n",
       "    </tr>\n",
       "  </tbody>\n",
       "</table>\n",
       "</div>"
      ],
      "text/plain": [
       "     region    category parameter  mode powertrain  year      unit    value\n",
       "8769    USA  Historical  EV sales  Cars        BEV  2010  Vehicles   1200.0\n",
       "8778    USA  Historical  EV sales  Cars        BEV  2011  Vehicles   9800.0\n",
       "8795    USA  Historical  EV sales  Cars        BEV  2012  Vehicles  15000.0\n",
       "8804    USA  Historical  EV sales  Cars        BEV  2013  Vehicles  48000.0\n",
       "8821    USA  Historical  EV sales  Cars        BEV  2014  Vehicles  63000.0"
      ]
     },
     "execution_count": 7,
     "metadata": {},
     "output_type": "execute_result"
    }
   ],
   "source": [
    "counts = iea_global[(iea_global['region'] == \"USA\") \n",
    "                    & (iea_global['parameter'] == \"EV sales\")\n",
    "                    & (iea_global['powertrain'] == \"BEV\")\n",
    "                    & (iea_global['mode'] == \"Cars\")]\n",
    "counts.head()"
   ]
  },
  {
   "cell_type": "code",
   "execution_count": 8,
   "id": "b8fc7b92",
   "metadata": {},
   "outputs": [
    {
     "data": {
      "image/png": "[encoded data removed]",
      "text/plain": [
       "<Figure size 432x288 with 1 Axes>"
      ]
     },
     "metadata": {
      "needs_background": "light"
     },
     "output_type": "display_data"
    }
   ],
   "source": [
    "hist_ct = counts[counts['category'] == 'Historical']\n",
    "hist_ct = hist_ct.set_index('year')\n",
    "\n",
    "proj = counts[(counts['category'] == 'Projection-APS')]\n",
    "proj = proj.set_index('year')\n",
    "\n",
    "plt.plot(hist_ct['value'])\n",
    "plt.plot(proj['value'], linestyle='--', marker='o', label=\"APS & STEPS projection\")\n",
    "\n",
    "plt.legend()\n",
    "plt.title(\"Projected number of new battery electric car sales\")\n",
    "plt.show()"
   ]
  }
 ],
 "metadata": {
  "kernelspec": {
   "display_name": "Python 3",
   "language": "python",
   "name": "python3"
  },
  "language_info": {
   "codemirror_mode": {
    "name": "ipython",
    "version": 3
   },
   "file_extension": ".py",
   "mimetype": "text/x-python",
   "name": "python",
   "nbconvert_exporter": "python",
   "pygments_lexer": "ipython3",
   "version": "3.7.4"
  }
 },
 "nbformat": 4,
 "nbformat_minor": 5
}
