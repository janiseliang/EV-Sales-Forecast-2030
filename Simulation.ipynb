{
 "cells": [
  {
   "cell_type": "markdown",
   "id": "417931e4",
   "metadata": {},
   "source": [
    "## Computer Simulation\n",
    "\n",
    "We use the following three factors to model the percent of EV car sales in the U.S: Price (P), Charging Stations (C) and Range (R). We write the following model:\n",
    "\n",
    "\n",
    "Rating = w_p * f_p(P) + w_c * f_c(C) + w_r * f_r(R).\n",
    "\n",
    "\n",
    "**Rating**: We interpret a rating as the probability that a particular person would buy an EV over a regular car, and take the average of these to get a prediction for proportion of EVs bought.\n",
    "\n",
    "**weights**: Each person has a different set of preferences, w_p, w_c and w_r. We sample these as w_p = N(0.6, 0.1), w_c = (1 - w_p) / 2 + N(0, 0.05), w_r = 1 - w_p - w_c.\n",
    "\n",
    "**f**: this is a function that scores each factor between 0 and 1."
   ]
  },
  {
   "cell_type": "code",
   "execution_count": 4,
   "id": "28f3096b",
   "metadata": {},
   "outputs": [],
   "source": [
    "import numpy as np"
   ]
  },
  {
   "cell_type": "code",
   "execution_count": 33,
   "id": "875cbfc8",
   "metadata": {},
   "outputs": [
    {
     "name": "stdout",
     "output_type": "stream",
     "text": [
      "Average: 0.5881931238652558\n",
      "Median: 0.598464029584871\n",
      "10% percentile: 0.3825438899635174\n",
      "90% percentile: 0.7776010625760984\n"
     ]
    }
   ],
   "source": [
    "def sample_weights():\n",
    "    w_p = np.random.normal(loc=0.6, scale=0.1)\n",
    "    w_c = (1 - w_p) / 2 + np.random.normal(loc=0.05, scale=0.01)\n",
    "    w_r = 1 - w_p - w_c\n",
    "    return w_p, w_c, w_r\n",
    "\n",
    "def sample_P():\n",
    "    return np.random.normal(loc=0.95, scale=0.2)\n",
    "    \n",
    "def sample_C():\n",
    "    return np.random.normal(loc=300000, scale=75000)\n",
    "    \n",
    "def sample_R():\n",
    "    return np.random.normal(loc=400, scale=70)\n",
    "\n",
    "def f_p(P):\n",
    "    # 0.85 - 0.3 * (P ** 2)\n",
    "    return 1 - 1 / (1 + np.exp(-6 * (P - 1)))\n",
    "\n",
    "def f_c(C):\n",
    "    sample = 2 * (10 ** -6) * C\n",
    "    return max(min(sample, 1), 0)\n",
    "\n",
    "def f_r(R):\n",
    "    sample = 0.04 * np.sqrt(R -100)\n",
    "    return max(min(sample, 1), 0)\n",
    "\n",
    "def sample_rating():\n",
    "    w_p, w_c, w_r = sample_weights()\n",
    "    P, C, R = sample_P(), sample_C(), sample_R()\n",
    "    # P, C, R = 0.8, 500000, 500\n",
    "#     print(f\"P, C, R: {P}, {C}, {R}\")\n",
    "#     print(\"w_p, w_c, w_r: \", w_p, w_c, w_r)\n",
    "#     print(f\"f_p(P): {f_p(P)}, f_c(C): {f_c(C)}, f_r(R): {f_r(R)}\")\n",
    "    return w_p * f_p(P) + w_c * f_c(C) + w_r * f_r(R)\n",
    "\n",
    "num_samples = 100000\n",
    "total = 0\n",
    "ratings = []\n",
    "for i in range(num_samples):\n",
    "    ratings.append(sample_rating())\n",
    "print(f\"Average: {np.mean(ratings)}\")\n",
    "print(f\"Median: {np.median(ratings)}\")\n",
    "print(f\"10% percentile: {np.percentile(ratings, 10)}\")\n",
    "print(f\"90% percentile: {np.percentile(ratings, 90)}\")"
   ]
  },
  {
   "cell_type": "code",
   "execution_count": null,
   "id": "4bdf529c",
   "metadata": {},
   "outputs": [],
   "source": []
  },
  {
   "cell_type": "code",
   "execution_count": null,
   "id": "9e5ad8bb",
   "metadata": {},
   "outputs": [],
   "source": []
  }
 ],
 "metadata": {
  "kernelspec": {
   "display_name": "Python 3 (ipykernel)",
   "language": "python",
   "name": "python3"
  },
  "language_info": {
   "codemirror_mode": {
    "name": "ipython",
    "version": 3
   },
   "file_extension": ".py",
   "mimetype": "text/x-python",
   "name": "python",
   "nbconvert_exporter": "python",
   "pygments_lexer": "ipython3",
   "version": "3.9.6"
  }
 },
 "nbformat": 4,
 "nbformat_minor": 5
}
